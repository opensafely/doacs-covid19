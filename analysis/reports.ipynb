{
 "cells": [
  {
   "cell_type": "code",
   "execution_count": 30,
   "id": "2156878b",
   "metadata": {},
   "outputs": [],
   "source": [
    "from IPython.display import HTML\n",
    "import pandas as pd\n",
    "import matplotlib.pyplot as plt\n",
    "\n",
    "from pandas.plotting import register_matplotlib_converters\n",
    "register_matplotlib_converters()\n",
    "\n",
    "%matplotlib inline\n",
    "%config InlineBackend.figure_format='png'"
   ]
  },
  {
   "cell_type": "code",
   "execution_count": 31,
   "id": "a011ee86",
   "metadata": {},
   "outputs": [],
   "source": [
    "demographics = ['age_band', 'carer', 'region', 'sex']\n",
    "\n",
    "for demographic in demographics:\n",
    "    \n",
    "    measure_df = pd.read_csv(f'../output/measure_doacs_by_{demographic}.csv')\n",
    "\n",
    "# function that plot individual line for each unique demographic\n",
    "def plot_measures_line(measure_df, demographic):\n",
    "    \"\"\"\n",
    "    measure_df: measure file\n",
    "    demographic: string that indicates what demographic you want to plot\n",
    "    \"\"\"\n",
    "    \n",
    "    for demographic in measure_df[demographic].unique():\n",
    "        print(demographic)\n",
    "        df_subset = measure_df[measure_df['sex'] == demographic]\n",
    "        \n",
    "        plt.plot(df_subset['date'], df_subset['value'])\n",
    "    \n",
    "    plt.savefig(f'output/plot_{demographic}.png')\n",
    "    plt.clf\n"
   ]
  }
 ],
 "metadata": {
  "kernelspec": {
   "display_name": "Python 3 (ipykernel)",
   "language": "python",
   "name": "python3"
  },
  "language_info": {
   "codemirror_mode": {
    "name": "ipython",
    "version": 3
   },
   "file_extension": ".py",
   "mimetype": "text/x-python",
   "name": "python",
   "nbconvert_exporter": "python",
   "pygments_lexer": "ipython3",
   "version": "3.8.8"
  }
 },
 "nbformat": 4,
 "nbformat_minor": 5
}
