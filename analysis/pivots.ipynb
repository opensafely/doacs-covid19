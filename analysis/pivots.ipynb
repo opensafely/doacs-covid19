{
 "cells": [
  {
   "cell_type": "code",
   "execution_count": 12,
   "id": "26e4f124",
   "metadata": {},
   "outputs": [],
   "source": [
    "from IPython.display import HTML\n",
    "import pandas as pd\n",
    "import numpy as np\n",
    "import itertools\n",
    "import matplotlib.pyplot as plt\n",
    "import matplotlib.dates as mdates\n",
    "from pandas.plotting import register_matplotlib_converters\n",
    "register_matplotlib_converters()\n",
    "%matplotlib inline\n",
    "\n",
    "%config InlineBackend.figure_format='png'\n",
    "\n",
    "# set the date format for plots\n",
    "dtFmt = mdates.DateFormatter('%b-%y')"
   ]
  },
  {
   "cell_type": "code",
   "execution_count": 13,
   "id": "eb68b0c6",
   "metadata": {},
   "outputs": [
    {
     "name": "stdout",
     "output_type": "stream",
     "text": [
      "     doac_dose_calculated crcl_grouped  on_doac       date\n",
      "3510                 A2.5            0        0 2022-07-01\n",
      "3511                 A2.5  15-29mL/min        0 2022-07-01\n",
      "3512                 A2.5  30-90mL/min       16 2022-07-01\n",
      "3513                 A2.5    <15mL/min        0 2022-07-01\n",
      "3514                 A2.5    >90mL/min        0 2022-07-01\n",
      "...                   ...          ...      ...        ...\n",
      "4025                  R10            0        0 2023-02-01\n",
      "4026                  R10  15-29mL/min        1 2023-02-01\n",
      "4027                  R10  30-90mL/min       22 2023-02-01\n",
      "4028                  R10    <15mL/min        1 2023-02-01\n",
      "4029                  R10    >90mL/min        0 2023-02-01\n",
      "\n",
      "[130 rows x 4 columns]\n"
     ]
    }
   ],
   "source": [
    "data_crcl_grouped=pd.read_csv(\"../output/filtered/measure_doacs_summary_crcl_rate.csv\", usecols=[\"date\", \"doac_dose_calculated\", \"crcl_grouped\", \"on_doac\"], parse_dates=[\"date\"])\n",
    "data_crcl_grouped = data_crcl_grouped.loc[data_crcl_grouped[\"crcl_grouped\"] != 0, :]\n",
    "data_crcl_grouped = data_crcl_grouped.loc[data_crcl_grouped[\"date\"] .isin([\"2022-07-01\", \"2023-02-01\"]), :]\n",
    "print(data_crcl_grouped)\n",
    "data_crcl_grouped.to_csv(f\"../output/data_crcl_grouped.csv\")\n"
   ]
  }
 ],
 "metadata": {
  "kernelspec": {
   "display_name": "Python 3.8.8 ('base')",
   "language": "python",
   "name": "python3"
  },
  "language_info": {
   "codemirror_mode": {
    "name": "ipython",
    "version": 3
   },
   "file_extension": ".py",
   "mimetype": "text/x-python",
   "name": "python",
   "nbconvert_exporter": "python",
   "pygments_lexer": "ipython3",
   "version": "3.9.13"
  },
  "vscode": {
   "interpreter": {
    "hash": "b7c4a146ef515f1e94fabc680e44b871408a140672db69292bd8884583a64a8c"
   }
  }
 },
 "nbformat": 4,
 "nbformat_minor": 5
}
