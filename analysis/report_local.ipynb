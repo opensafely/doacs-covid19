{
 "cells": [
  {
   "cell_type": "markdown",
   "id": "9a2867b9",
   "metadata": {},
   "source": [
    "# Direct Oral Anticoagulant (DOAC) prescribing during COVID-19"
   ]
  },
  {
   "cell_type": "markdown",
   "id": "4e2e7679",
   "metadata": {},
   "source": [
    "During COVID-19, GPs have been encouraged to switch patients from Warfarin to alternative anticoagulants called Direct Oral Anticoagulants (DOACs) as they require less frequent monitoring and avoid additional visits to the GP practice. DOACs do however require renal function tests to ensure the correct dose is prescribed to avoid harm in patients. This evaluation wants to identify the proportion of patients who are at risk of harm whilst prescribed the incorrect dose of DOAC."
   ]
  },
  {
   "attachments": {},
   "cell_type": "markdown",
   "id": "1d8934b5",
   "metadata": {},
   "source": [
    "Data for this report has been run on the TPP system which covers approximately 40% of all practices, with a total population of approximately 18.6m Jan-18, rising to approximately 20.8m Mar-24."
   ]
  },
  {
   "cell_type": "code",
   "execution_count": null,
   "id": "cb008d25",
   "metadata": {},
   "outputs": [],
   "source": [
    "from IPython.display import Image\n",
    "from IPython.display import display\n",
    "from pathlib import Path\n",
    "\n",
    "\n",
    "def display_image(path):\n",
    "    if not Path(path).exists():\n",
    "        print(f\"{path} does not exist\")\n",
    "    \n",
    "    else:\n",
    "        display(Image(filename=path))\n",
    "\n",
    "# make the released outputs directory if it doesn't exist\n",
    "Path(\"released_outputs\").mkdir(parents=True, exist_ok=True)"
   ]
  },
  {
   "cell_type": "markdown",
   "id": "71f55e8c",
   "metadata": {},
   "source": [
    "### The number and proportion of people prescribed DOACs since January 2018"
   ]
  },
  {
   "cell_type": "code",
   "execution_count": null,
   "id": "933b2fce",
   "metadata": {},
   "outputs": [],
   "source": [
    "display_image('../released_outputs/plot_01_all_doacs_absolute.png')"
   ]
  },
  {
   "cell_type": "code",
   "execution_count": null,
   "id": "9339a4b9",
   "metadata": {},
   "outputs": [],
   "source": [
    "display_image(\"../released_outputs/plot_02_all_doacs_proportion.png\")"
   ]
  },
  {
   "cell_type": "markdown",
   "id": "f7bd8275",
   "metadata": {},
   "source": [
    "### The change in prescribing behaviour related to DOACs since January 2018 broken down by patient demographics "
   ]
  },
  {
   "cell_type": "markdown",
   "id": "9df59cb5",
   "metadata": {},
   "source": [
    "#### 1. Number of people (absolute & normalised) prescribed a DOAC by region"
   ]
  },
  {
   "cell_type": "code",
   "execution_count": null,
   "id": "31bdb5dc",
   "metadata": {},
   "outputs": [],
   "source": [
    "display_image(\"../released_outputs/plot_03_all_doacs_by_region_absolute.png\")"
   ]
  },
  {
   "cell_type": "code",
   "execution_count": null,
   "id": "e0792f1a",
   "metadata": {},
   "outputs": [],
   "source": [
    "display_image(\"../released_outputs/plot_04_all_doacs_by_region_normalised.png\")"
   ]
  },
  {
   "cell_type": "markdown",
   "id": "0af08810",
   "metadata": {},
   "source": [
    "#### 2. Number of people (absolute & normalised) prescribed a DOAC by age band - excludes patients with a missing age"
   ]
  },
  {
   "cell_type": "code",
   "execution_count": null,
   "id": "c5b668c9",
   "metadata": {},
   "outputs": [],
   "source": [
    "display_image(\"../released_outputs/plot_05_all_doacs_by_age_band_absolute.png\")"
   ]
  },
  {
   "cell_type": "code",
   "execution_count": null,
   "id": "56272013",
   "metadata": {},
   "outputs": [],
   "source": [
    "display_image(\"../released_outputs/plot_06_all_doacs_by_age_band_normalised.png\")"
   ]
  },
  {
   "cell_type": "markdown",
   "id": "67c1e768",
   "metadata": {},
   "source": [
    "#### 3. Number of people (absolute & normalised) prescribed a DOAC by sex"
   ]
  },
  {
   "cell_type": "code",
   "execution_count": null,
   "id": "e59a8319",
   "metadata": {},
   "outputs": [],
   "source": [
    "display_image(\"../released_outputs/plot_07_all_doacs_by_sex_absolute.png\")"
   ]
  },
  {
   "cell_type": "code",
   "execution_count": null,
   "id": "74fe4a5d",
   "metadata": {},
   "outputs": [],
   "source": [
    "display_image(\"../released_outputs/plot_08_all_doacs_by_sex_normalised.png\")"
   ]
  },
  {
   "cell_type": "markdown",
   "id": "b93a27b3",
   "metadata": {},
   "source": [
    "#### 4. Mean age by sex"
   ]
  },
  {
   "cell_type": "code",
   "execution_count": null,
   "id": "4526952f",
   "metadata": {},
   "outputs": [],
   "source": [
    "display_image(\"../released_outputs/plot_09_mean_age_by_sex.png\")"
   ]
  },
  {
   "cell_type": "markdown",
   "id": "9c3894ce",
   "metadata": {},
   "source": [
    "#### 5. Proportion (%) of people on a DOAC identified as being a 'caregiver'"
   ]
  },
  {
   "cell_type": "code",
   "execution_count": null,
   "id": "6f5328e0",
   "metadata": {},
   "outputs": [],
   "source": [
    "display_image(\"../released_outputs/plot_10_proportion_recorded_as_carer.png\")"
   ]
  },
  {
   "cell_type": "markdown",
   "id": "72fd746f",
   "metadata": {},
   "source": [
    "### The proportion (%) of people on a DOAC who have a specific event recorded in the last 12 months"
   ]
  },
  {
   "cell_type": "markdown",
   "id": "50474c95",
   "metadata": {},
   "source": [
    "#### a. Proportion of people prescribed a DOAC with a weight recorded in the last 12 months"
   ]
  },
  {
   "cell_type": "code",
   "execution_count": null,
   "id": "6240ec8d",
   "metadata": {},
   "outputs": [],
   "source": [
    "display_image(\"../released_outputs/plot_11_proportion_with_weight_recorded.png\")"
   ]
  },
  {
   "cell_type": "markdown",
   "id": "c5328144",
   "metadata": {},
   "source": [
    "#### b. The proportion (%) of people prescribed a DOAC with an eGFR recorded in the last 12 months"
   ]
  },
  {
   "cell_type": "code",
   "execution_count": null,
   "id": "a7e31c88",
   "metadata": {},
   "outputs": [],
   "source": [
    "display_image(\"../released_outputs/plot_12_proportion_with_egfr_recorded.png\")"
   ]
  },
  {
   "cell_type": "markdown",
   "id": "5d2912d1",
   "metadata": {},
   "source": [
    "#### c. The proportion (%) of people prescribed a DOAC with serum creatinine recorded in the last 12 months"
   ]
  },
  {
   "cell_type": "code",
   "execution_count": null,
   "id": "e4976638",
   "metadata": {},
   "outputs": [],
   "source": [
    "display_image(\n",
    "    \"../released_outputs/plot_13_proportion_with_serumcreatinine_recorded.png\"\n",
    ")"
   ]
  },
  {
   "cell_type": "markdown",
   "id": "94869efd",
   "metadata": {},
   "source": [
    "#### d. The proportion (%) of people prescribed a DOAC with creatinine clearance (Cr/Cl) recorded in the last 12 months"
   ]
  },
  {
   "cell_type": "code",
   "execution_count": null,
   "id": "64df55bd",
   "metadata": {},
   "outputs": [],
   "source": [
    "display_image(\"../released_outputs/plot_14_proportion_with_crcl_recorded.png\")"
   ]
  },
  {
   "cell_type": "markdown",
   "id": "3204178e",
   "metadata": {},
   "source": [
    "#### e. The proportion (%) of people prescribed a DOAC with serum creatinine recorded in the last 12 months but no creatinine clearance (Cr/Cl)"
   ]
  },
  {
   "cell_type": "code",
   "execution_count": null,
   "id": "06463d4f",
   "metadata": {},
   "outputs": [],
   "source": [
    "display_image(\n",
    "    \"../released_outputs/plot_15_proportion_with_serumcreatinine_and_crcl_recorded.png\"\n",
    ")"
   ]
  },
  {
   "cell_type": "markdown",
   "id": "d128b91e",
   "metadata": {},
   "source": [
    "### Reviewing DOACs in patients with Non-Valvular Atrial Fibrillation in the latest 12 months"
   ]
  },
  {
   "cell_type": "markdown",
   "id": "a7a1d3a4",
   "metadata": {},
   "source": [
    "#### i. The proportion (%) of people prescribed a DOAC with Non-Valvular Atrial Fibrillation"
   ]
  },
  {
   "cell_type": "code",
   "execution_count": null,
   "id": "d8118011",
   "metadata": {},
   "outputs": [],
   "source": [
    "display_image(\"../released_outputs/plot_16_proportion_with_af_recorded.png\")"
   ]
  },
  {
   "cell_type": "markdown",
   "id": "bacb3cdd",
   "metadata": {},
   "source": [
    "#### ii. The proportion (%) of people prescribed a DOAC with Non-Valvular Atrial Fibrillation and with Cr/Cl recorded in the last 12 months"
   ]
  },
  {
   "cell_type": "code",
   "execution_count": null,
   "id": "98cdf46b",
   "metadata": {},
   "outputs": [],
   "source": [
    "display_image(\n",
    "    \"../released_outputs/plot_17_proportion_with_af_and_crcl_recorded.png\"\n",
    ")"
   ]
  },
  {
   "cell_type": "markdown",
   "id": "fed7416d",
   "metadata": {},
   "source": [
    "#### iii. The proportion (%) of people prescribed a DOAC with Non-Valvular Atrial Fibrillation and with Cr/Cl recorded in the last 12 months, where the recommended DOAC dose (calculated using recorded Cr/Cl) does not match prescribed DOAC dose.\n",
    "https://cks.nice.org.uk/topics/anticoagulation-oral/"
   ]
  },
  {
   "cell_type": "code",
   "execution_count": null,
   "id": "ba3e6429",
   "metadata": {},
   "outputs": [],
   "source": [
    "display_image(\"../released_outputs/plot_18_dose_match.png\")"
   ]
  }
 ],
 "metadata": {
  "kernelspec": {
   "display_name": "Python 3.9.5 64-bit ('3.9.5')",
   "language": "python",
   "name": "python3"
  },
  "language_info": {
   "codemirror_mode": {
    "name": "ipython",
    "version": 3
   },
   "file_extension": ".py",
   "mimetype": "text/x-python",
   "name": "python",
   "nbconvert_exporter": "python",
   "pygments_lexer": "ipython3",
   "version": "3.9.6"
  },
  "vscode": {
   "interpreter": {
    "hash": "f8ee0486d0b859810a2c6de8194e31e04614babcdd3c5c9e51efa86022ed17a3"
   }
  }
 },
 "nbformat": 4,
 "nbformat_minor": 5
}
